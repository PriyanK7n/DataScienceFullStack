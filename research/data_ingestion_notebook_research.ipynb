{
 "cells": [
  {
   "cell_type": "code",
   "execution_count": 1,
   "metadata": {},
   "outputs": [
    {
     "name": "stdout",
     "output_type": "stream",
     "text": [
      "data-ingestion-notebook-research.ipynb\n"
     ]
    }
   ],
   "source": [
    "!ls"
   ]
  },
  {
   "cell_type": "code",
   "execution_count": 2,
   "metadata": {},
   "outputs": [],
   "source": [
    "import os"
   ]
  },
  {
   "cell_type": "code",
   "execution_count": 3,
   "metadata": {},
   "outputs": [
    {
     "data": {
      "text/plain": [
       "'/Users/priyank/Desktop/Job-Resume/Interview-Preparation/MLOPs/DataScienceFullStack/research'"
      ]
     },
     "execution_count": 3,
     "metadata": {},
     "output_type": "execute_result"
    }
   ],
   "source": [
    "%pwd"
   ]
  },
  {
   "cell_type": "code",
   "execution_count": 4,
   "metadata": {},
   "outputs": [
    {
     "data": {
      "text/plain": [
       "'/Users/priyank/Desktop/Job-Resume/Interview-Preparation/MLOPs/DataScienceFullStack'"
      ]
     },
     "execution_count": 4,
     "metadata": {},
     "output_type": "execute_result"
    }
   ],
   "source": [
    "os.chdir(\"../\")\n",
    "%pwd"
   ]
  },
  {
   "cell_type": "code",
   "execution_count": 8,
   "metadata": {},
   "outputs": [],
   "source": [
    "# Input to our data ingestion pipeline\n",
    "# Update in config_entity.py file\n",
    "from dataclasses import dataclass\n",
    "from pathlib import Path\n",
    "\n",
    "\"\"\"Data Class is used when there are no functions in our class \n",
    "and we just need to assign values without self keyword\"\"\"\n",
    "\n",
    "@dataclass\n",
    "class DataIngestionConfig:\n",
    "        root_dir: Path \n",
    "        source_URL: str\n",
    "        local_data_file: Path\n",
    "        unzip_dir: Path"
   ]
  },
  {
   "cell_type": "code",
   "execution_count": 12,
   "metadata": {},
   "outputs": [],
   "source": [
    "# Used to manage or load any updates in config, schema and params .yaml\n",
    "# Update in configuration.py \n",
    "\n",
    "from src.datascienceFullStackProject.constants import * \n",
    "from src.datascienceFullStackProject.utils.common import read_yaml, create_directories\n",
    "\n",
    "class ConfigurationManager:\n",
    "    def __init__(self, \n",
    "            config_filepath= CONFIG_FILE_PATH, \n",
    "            params_filpath = PARAMS_FILE_PATH, \n",
    "            schema_filepath = SCHEMA_FILE_PATH):\n",
    "\n",
    "            self.config = read_yaml(config_filepath)\n",
    "            self.params = read_yaml(params_filpath)\n",
    "            self.schema = read_yaml(schema_filepath)\n",
    "\n",
    "            create_directories([self.config.artifacts_root])\n",
    "\n",
    "\n",
    "    def get_data_ingestion_config(self)-> DataIngestionConfig:\n",
    "            config = self.config.data_ingestion\n",
    "            create_directories([config.root_dir]) \n",
    "\n",
    "            data_ingestion_config = DataIngestionConfig(\n",
    "                root_dir =  config.root_dir, \n",
    "                source_URL = config.source_URL,\n",
    "                local_data_file = config.local_data_file,\n",
    "                unzip_dir = config.unzip_dir\n",
    "                )\n",
    "\n",
    "            return data_ingestion_config        "
   ]
  },
  {
   "cell_type": "code",
   "execution_count": 13,
   "metadata": {},
   "outputs": [],
   "source": [
    "import os\n",
    "import urllib.request as request\n",
    "from src.datascienceFullStackProject import logger\n",
    "import zipfile\n",
    "\n",
    "## Data Ingestion Component\n",
    "class DataIngestion:\n",
    "    \n",
    "    def __init__(self,config:DataIngestionConfig):\n",
    "        self.config=config\n",
    "\n",
    "    # Download the zip file\n",
    "    def download_file(self):\n",
    "        if not os.path.exists(self.config.local_data_file):\n",
    "            filename, headers = request.urlretrieve(\n",
    "                url = self.config.source_URL,\n",
    "                filename = self.config.local_data_file\n",
    "            )\n",
    "            logger.info(f\"{filename} download! with following info: \\n{headers}\")\n",
    "        \n",
    "        else:\n",
    "            logger.info(f\"File already exists\")\n",
    "\n",
    "    # Extract the zip file\n",
    "    def extract_zip_file(self):\n",
    "        \"\"\"\n",
    "        zip_file_path: str\n",
    "        Extracts the zip file into the data directory\n",
    "        Function returns None\n",
    "        \"\"\"\n",
    "        \n",
    "        unzip_path = self.config.unzip_dir\n",
    "        os.makedirs(unzip_path, exist_ok=True)\n",
    "        with zipfile.ZipFile(self.config.local_data_file, 'r') as zip_ref:\n",
    "            zip_ref.extractall(unzip_path)\n",
    "\n",
    "\n"
   ]
  },
  {
   "cell_type": "code",
   "execution_count": 14,
   "metadata": {},
   "outputs": [
    {
     "name": "stdout",
     "output_type": "stream",
     "text": [
      "[2024-10-21 12:53:01,624: INFO: common: yaml file: config/config.yaml loaded successfully]\n",
      "[2024-10-21 12:53:01,626: INFO: common: yaml file: params.yaml loaded successfully]\n",
      "[2024-10-21 12:53:01,628: INFO: common: yaml file: schema.yaml loaded successfully]\n",
      "[2024-10-21 12:53:01,630: INFO: common: created directory at: artifacts]\n",
      "[2024-10-21 12:53:01,632: INFO: common: created directory at: artifacts/data_ingestion]\n",
      "[2024-10-21 12:53:02,209: INFO: 1733211362: artifacts/data_ingestion/data.zip download! with following info: \n",
      "Connection: close\n",
      "Content-Length: 23329\n",
      "Cache-Control: max-age=300\n",
      "Content-Security-Policy: default-src 'none'; style-src 'unsafe-inline'; sandbox\n",
      "Content-Type: application/zip\n",
      "ETag: \"c69888a4ae59bc5a893392785a938ccd4937981c06ba8a9d6a21aa52b4ab5b6e\"\n",
      "Strict-Transport-Security: max-age=31536000\n",
      "X-Content-Type-Options: nosniff\n",
      "X-Frame-Options: deny\n",
      "X-XSS-Protection: 1; mode=block\n",
      "X-GitHub-Request-Id: EBE3:3C56CB:B30EB:C1F1C:671686ED\n",
      "Accept-Ranges: bytes\n",
      "Date: Mon, 21 Oct 2024 16:53:02 GMT\n",
      "Via: 1.1 varnish\n",
      "X-Served-By: cache-bos4655-BOS\n",
      "X-Cache: MISS\n",
      "X-Cache-Hits: 0\n",
      "X-Timer: S1729529582.195904,VS0,VE102\n",
      "Vary: Authorization,Accept-Encoding,Origin\n",
      "Access-Control-Allow-Origin: *\n",
      "Cross-Origin-Resource-Policy: cross-origin\n",
      "X-Fastly-Request-ID: 62d3e69e165e049116662749f0d2ef136aec3cfe\n",
      "Expires: Mon, 21 Oct 2024 16:58:02 GMT\n",
      "Source-Age: 0\n",
      "\n",
      "]\n"
     ]
    }
   ],
   "source": [
    "# Data Ingestion Pipeline Run: \n",
    "try:\n",
    "    config=ConfigurationManager()\n",
    "    data_ingestion_config=config.get_data_ingestion_config()\n",
    "    data_ingestion=DataIngestion(config=data_ingestion_config)\n",
    "    data_ingestion.download_file()\n",
    "    data_ingestion.extract_zip_file()\n",
    "except Exception as e:\n",
    "    raise e"
   ]
  },
  {
   "cell_type": "code",
   "execution_count": null,
   "metadata": {},
   "outputs": [],
   "source": []
  }
 ],
 "metadata": {
  "kernelspec": {
   "display_name": "Python 3",
   "language": "python",
   "name": "python3"
  },
  "language_info": {
   "codemirror_mode": {
    "name": "ipython",
    "version": 3
   },
   "file_extension": ".py",
   "mimetype": "text/x-python",
   "name": "python",
   "nbconvert_exporter": "python",
   "pygments_lexer": "ipython3",
   "version": "3.10.15"
  }
 },
 "nbformat": 4,
 "nbformat_minor": 2
}
